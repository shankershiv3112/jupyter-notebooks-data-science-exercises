{
 "cells": [
  {
   "cell_type": "markdown",
   "metadata": {},
   "source": [
    "<center>\n",
    "    <img src=\"https://cf-courses-data.s3.us.cloud-object-storage.appdomain.cloud/IBMDeveloperSkillsNetwork-DS0105EN-SkillsNetwork/labs/Module2/images/SN_web_lightmode.png\" width=\"300\" alt=\"cognitiveclass.ai logo\">\n",
    "</center>\n"
   ]
  },
  {
   "cell_type": "markdown",
   "metadata": {
    "tags": []
   },
   "source": [
    "#### Add your code below following the instructions given in the course\n"
   ]
  },
  {
   "cell_type": "markdown",
   "metadata": {},
   "source": [
    "# Data Science Tools and Ecosystem\n"
   ]
  },
  {
   "cell_type": "code",
   "execution_count": null,
   "metadata": {},
   "outputs": [],
   "source": []
  },
  {
   "cell_type": "code",
   "execution_count": null,
   "metadata": {},
   "outputs": [],
   "source": []
  },
  {
   "cell_type": "markdown",
   "metadata": {},
   "source": [
    "## Introduction\n",
    "In This notebook, Data Science Tools and Ecosystem are summarized."
   ]
  },
  {
   "cell_type": "code",
   "execution_count": null,
   "metadata": {},
   "outputs": [],
   "source": []
  },
  {
   "cell_type": "code",
   "execution_count": null,
   "metadata": {},
   "outputs": [],
   "source": []
  },
  {
   "cell_type": "markdown",
   "metadata": {},
   "source": [
    "## Data Science Languages\n",
    "- Python\n",
    "- R\n",
    "- SQL\n",
    "- Julia\n",
    "- Scala\n"
   ]
  },
  {
   "cell_type": "code",
   "execution_count": null,
   "metadata": {},
   "outputs": [],
   "source": []
  },
  {
   "cell_type": "code",
   "execution_count": null,
   "metadata": {},
   "outputs": [],
   "source": []
  },
  {
   "cell_type": "markdown",
   "metadata": {},
   "source": [
    "## Data Science Libraries\n",
    "- NumPy\n",
    "- Pandas\n",
    "- Matplotlib\n",
    "- Scikit-learn\n",
    "- TensorFlow\n"
   ]
  },
  {
   "cell_type": "code",
   "execution_count": null,
   "metadata": {},
   "outputs": [],
   "source": []
  },
  {
   "cell_type": "code",
   "execution_count": null,
   "metadata": {},
   "outputs": [],
   "source": []
  },
  {
   "cell_type": "markdown",
   "metadata": {},
   "source": [
    "## Data Science Tools\n",
    "\n",
    "| Tool        | Description                       |\n",
    "|-------------|-----------------------------------|\n",
    "| Jupyter     | Interactive computing environment |\n",
    "| RStudio     | Integrated development environment for R |\n",
    "| Spyder      | IDE for Python                     |\n",
    "| Tableau     | Data visualization tool            |\n"
   ]
  },
  {
   "cell_type": "code",
   "execution_count": null,
   "metadata": {},
   "outputs": [],
   "source": []
  },
  {
   "cell_type": "markdown",
   "metadata": {},
   "source": [
    "## Introduction to Arithmetic Expressions\n",
    "\n",
    "Arithmetic expressions are fundamental to mathematics and programming. They involve numbers, operators, and sometimes parentheses to denote operations and the order in which they should be performed. Here are some basic arithmetic operations:\n",
    "\n",
    "- **Addition (+)**: Adds two numbers.\n",
    "- **Subtraction (-)**: Subtracts one number from another.\n",
    "- **Multiplication (*)**: Multiplies two numbers.\n",
    "- **Division (/)**: Divides one number by another.\n",
    "- **Exponentiation (^ or **)**: Raises a number to the power of another.\n",
    "\n",
    "### Examples:\n",
    "\n",
    "1. **Addition**: \n",
    "   - Expression: `5 + 3`\n",
    "   - Result: `8`\n",
    "\n",
    "2. **Subtraction**:\n",
    "   - Expression: `10 - 4`\n",
    "   - Result: `6`\n",
    "\n",
    "3. **Multiplication**:\n",
    "   - Expression: `7 * 2`\n",
    "   - Result: `14`\n",
    "\n",
    "4. **Division**:\n",
    "   - Expression: `20 / 4`\n",
    "   - Result: `5`\n",
    "\n",
    "5. **Exponentiation**:\n",
    "   - Expression: `2 ^ 3` or `2 ** 3`\n",
    "   - Result: `8`\n",
    "\n",
    "By combining these operations, you can create more complex expressions to solve various mathematical problems. Let's explore these examples further!\n"
   ]
  },
  {
   "cell_type": "code",
   "execution_count": null,
   "metadata": {},
   "outputs": [],
   "source": []
  },
  {
   "cell_type": "code",
   "execution_count": 1,
   "metadata": {
    "tags": []
   },
   "outputs": [
    {
     "name": "stdout",
     "output_type": "stream",
     "text": [
      "Multiplication Result: 15\n",
      "Addition Result: 17\n"
     ]
    }
   ],
   "source": [
    "# Define the numbers\n",
    "a = 5\n",
    "b = 3\n",
    "c = 2\n",
    "\n",
    "# Perform multiplication\n",
    "multiplication_result = a * b\n",
    "\n",
    "# Perform addition\n",
    "addition_result = multiplication_result + c\n",
    "\n",
    "# Print the results\n",
    "print(\"Multiplication Result:\", multiplication_result)\n",
    "print(\"Addition Result:\", addition_result)\n"
   ]
  },
  {
   "cell_type": "code",
   "execution_count": null,
   "metadata": {},
   "outputs": [],
   "source": []
  },
  {
   "cell_type": "code",
   "execution_count": null,
   "metadata": {},
   "outputs": [],
   "source": []
  },
  {
   "cell_type": "code",
   "execution_count": 2,
   "metadata": {
    "tags": []
   },
   "outputs": [
    {
     "name": "stdout",
     "output_type": "stream",
     "text": [
      "150 minutes is equal to 2.50 hours.\n"
     ]
    }
   ],
   "source": [
    "# Function to convert minutes to hours\n",
    "def minutes_to_hours(minutes):\n",
    "    hours = minutes / 60\n",
    "    return hours\n",
    "\n",
    "# Example usage\n",
    "minutes = 150\n",
    "hours = minutes_to_hours(minutes)\n",
    "\n",
    "# Print the result\n",
    "print(f\"{minutes} minutes is equal to {hours:.2f} hours.\")\n"
   ]
  },
  {
   "cell_type": "code",
   "execution_count": null,
   "metadata": {},
   "outputs": [],
   "source": []
  },
  {
   "cell_type": "code",
   "execution_count": null,
   "metadata": {},
   "outputs": [],
   "source": []
  },
  {
   "cell_type": "markdown",
   "metadata": {},
   "source": [
    "## Objectives\n",
    "\n",
    "In this exercise, we aim to achieve the following objectives:\n",
    "\n",
    "1. **Understand Basic Arithmetic Operations**:\n",
    "   - Learn how to perform basic arithmetic operations such as addition, subtraction, multiplication, and division.\n",
    "   \n",
    "2. **Apply Arithmetic Operations in Code**:\n",
    "   - Implement arithmetic operations in a programming environment to solve practical problems.\n",
    "\n",
    "3. **Convert Units of Time**:\n",
    "   - Learn how to convert minutes to hours using a simple function in Python.\n",
    "\n",
    "4. **Practice Function Definition**:\n",
    "   - Gain experience in defining and using functions to perform specific tasks.\n",
    "\n",
    "By the end of this exercise, you should be comfortable with performing arithmetic operations and converting units of time using code.\n"
   ]
  },
  {
   "cell_type": "code",
   "execution_count": null,
   "metadata": {},
   "outputs": [],
   "source": []
  },
  {
   "cell_type": "code",
   "execution_count": null,
   "metadata": {},
   "outputs": [],
   "source": []
  },
  {
   "cell_type": "markdown",
   "metadata": {},
   "source": [
    "## Author\n",
    "\n",
    "This exercise was created by [Shiv shankar] . \n",
    "\n",
    "Feel free to reach out if you have any questions or need further assistance.\n"
   ]
  },
  {
   "cell_type": "code",
   "execution_count": null,
   "metadata": {},
   "outputs": [],
   "source": []
  }
 ],
 "metadata": {
  "kernelspec": {
   "display_name": "Python",
   "language": "python",
   "name": "conda-env-python-py"
  },
  "language_info": {
   "codemirror_mode": {
    "name": "ipython",
    "version": 3
   },
   "file_extension": ".py",
   "mimetype": "text/x-python",
   "name": "python",
   "nbconvert_exporter": "python",
   "pygments_lexer": "ipython3",
   "version": "3.7.12"
  }
 },
 "nbformat": 4,
 "nbformat_minor": 4
}
